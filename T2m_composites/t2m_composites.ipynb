{
 "cells": [
  {
   "cell_type": "code",
   "execution_count": 1,
   "metadata": {
    "tags": []
   },
   "outputs": [],
   "source": [
    "import xarray as xr\n",
    "import numpy as np\n",
    "import datetime\n",
    "from datetime import date, timedelta\n",
    "from scipy.stats import bootstrap\n",
    "import yaml"
   ]
  },
  {
   "cell_type": "code",
   "execution_count": 2,
   "metadata": {},
   "outputs": [],
   "source": [
    "import sys\n",
    "sys.path.insert(0, '/home/cstan/project-git/MJO-Teleconnections/Utils')\n",
    "from pathlib import Path\n",
    "from obs_utils import *\n",
    "from fcst_utils import *\n",
    "from t2m_utils import *"
   ]
  },
  {
   "cell_type": "code",
   "execution_count": null,
   "metadata": {},
   "outputs": [],
   "source": [
    "print(xr.__version__)"
   ]
  },
  {
   "cell_type": "code",
   "execution_count": 5,
   "metadata": {},
   "outputs": [],
   "source": [
    "config_file=Path('../driver/config.yml').resolve()\n",
    "with open(config_file,'r') as file:\n",
    "    try:\n",
    "        dict = yaml.safe_load(file)\n",
    "    except yaml.YAMLError as e:\n",
    "        print(e)"
   ]
  },
  {
   "cell_type": "code",
   "execution_count": 6,
   "metadata": {},
   "outputs": [
    {
     "data": {
      "text/plain": [
       "{'Compute the z500 anomalies:': False,\n",
       " 'DIR_IN': '/projects/cstan',\n",
       " 'Daily Anomaly:': True,\n",
       " 'END_DATE:': '2018-12-31',\n",
       " 'ERAI:': True,\n",
       " 'IMERG:': True,\n",
       " 'Initial dates:': '1 15',\n",
       " 'Model input file daily mean:': False,\n",
       " 'Number of ensembles:': '1',\n",
       " 'Number of initial dates:': '2',\n",
       " 'Path to OLR data files:': '/projects/cstan/OBS/',\n",
       " 'Path to T2m model data files for date': ['/projects/cstan/ufs6/daily/mean/t2m/t2m_*01.nc',\n",
       "  '/projects/cstan/ufs6/daily/mean/t2m/t2m_*15.nc'],\n",
       " 'Path to T2m observational data files:': '/projects/cstan/OBS/',\n",
       " 'Path to meridional wind at 500 hPa date files': ['/projects/cstan/',\n",
       "  '/projects/cstan/'],\n",
       " 'Path to meridional wind at 500 hPa observational data files:': '/projects/cstan/OBS/',\n",
       " 'Path to meridional wind at 850 hPa date files': ['/projects/cstan/',\n",
       "  '/projects/cstan/'],\n",
       " 'Path to meridional wind at 850 hPa observational data file': '/projects/cstan/OBS/',\n",
       " 'Path to precipitation data files:': ['/projects/cstan/', '/projects/cstan/'],\n",
       " 'Path to precipitation observational data files:': '/projects/cstan/OBS/',\n",
       " 'Path to temperature at 500 hPa data files': ['/projects/cstan/',\n",
       "  '/projects/cstan/'],\n",
       " 'Path to temperature at 500 hPa observational data files': '/projects/cstan/OBS/',\n",
       " 'Path to z100 date files': ['/projects/cstan/', '/projects/cstan/'],\n",
       " 'Path to z100 observational files': '/projects/cstan/OBS/',\n",
       " 'Path to z500 date files': ['/projects/cstan/', '/projects/cstan/'],\n",
       " 'Path to z500 observational files': '/projects/cstan/OBS/',\n",
       " 'Path to zonal wind at 10 hPa data files:': ['/projects/cstan/',\n",
       "  '/projects/cstan/'],\n",
       " 'Path to zonal wind at 10 hPa observational data files:': '/projects/cstan/OBS/',\n",
       " 'Path to zonal wind at 200 hPa data files:': '/projects/cstan/OBS/',\n",
       " 'Path to zonal wind at 850 hPa data files:': '/projects/cstan/OBS/',\n",
       " 'Path to zonalwind850 date files': ['/projects/cstan/', '/projects/cstan/'],\n",
       " 'Path to zonalwind850 observational files': '/projects/cstan/OBS/',\n",
       " 'RMM:': False,\n",
       " 'START_DATE:': '2011-01-01',\n",
       " 'Select weeks:': ''}"
      ]
     },
     "execution_count": 6,
     "metadata": {},
     "output_type": "execute_result"
    }
   ],
   "source": [
    "dict"
   ]
  },
  {
   "cell_type": "code",
   "execution_count": null,
   "metadata": {},
   "outputs": [],
   "source": [
    "if (dict['RMM:']==False):\n",
    "    fil_rmm_erai=dict['DIR_IN']+'/mjo_teleconnections_data/erai/rmm/rmm_ERA-Interim.nc'"
   ]
  },
  {
   "cell_type": "code",
   "execution_count": null,
   "metadata": {},
   "outputs": [],
   "source": [
    "fil_rmm_erai"
   ]
  },
  {
   "cell_type": "code",
   "execution_count": null,
   "metadata": {},
   "outputs": [],
   "source": [
    "ds_rmm=xr.open_dataset(fil_rmm_erai,decode_times=False)"
   ]
  },
  {
   "cell_type": "code",
   "execution_count": null,
   "metadata": {},
   "outputs": [],
   "source": [
    "times=ds_rmm['amplitude'].time\n",
    "init_time=date(1960,1,1)+timedelta(int(times[0]))\n",
    "time=[]\n",
    "for i in range(len(times)):\n",
    "        time.append(init_time+timedelta(i))"
   ]
  },
  {
   "cell_type": "code",
   "execution_count": null,
   "metadata": {},
   "outputs": [],
   "source": [
    "import pandas as pd\n",
    "ds_rmm['time'] = pd.to_datetime(time,format=\"%Y/%m/%d\")"
   ]
  },
  {
   "cell_type": "markdown",
   "metadata": {},
   "source": [
    "ERA-Interim data covers 01/01/1979-08/31/2019, 7 years and 8 months, 14853 days"
   ]
  },
  {
   "cell_type": "code",
   "execution_count": null,
   "metadata": {},
   "outputs": [],
   "source": [
    "if (dict['ERAI:']==True):\n",
    "    fil_t2m_erai=dict['DIR_IN']+'/mjo_teleconnections_data/erai/t2m/erai.T2m.day.mean.1979-2019.nc'\n",
    "ds_t2m_erai=xr.open_dataset(fil_t2m_erai)"
   ]
  },
  {
   "cell_type": "markdown",
   "metadata": {},
   "source": [
    "* Rename lon,lat to match the forecast - useful for plotting\n",
    "* Reverse latitude of ERA-I from S->N to N->S"
   ]
  },
  {
   "cell_type": "code",
   "execution_count": null,
   "metadata": {},
   "outputs": [],
   "source": [
    "ds_t2m_erai=ds_t2m_erai.rename({'lon': 'longitude','lat': 'latitude'})\n",
    "ds_t2m_erai=ds_t2m_erai.reindex(latitude=list(reversed(ds_t2m_erai.latitude)))"
   ]
  },
  {
   "cell_type": "markdown",
   "metadata": {},
   "source": [
    "Calculate anomalies of observations for the provided Start_Date -- End_Date period"
   ]
  },
  {
   "cell_type": "code",
   "execution_count": null,
   "metadata": {},
   "outputs": [],
   "source": [
    "if (dict['Daily Anomaly:'] == True):\n",
    "    tBegin=dict['START_DATE:']\n",
    "    tEnd=dict['END_DATE:']\n",
    "    t2m_obs_anom=calcAnomObs(ds_t2m_erai['t2m'].sel(time=slice(tBegin,tEnd)),'t2m_anom')"
   ]
  },
  {
   "cell_type": "markdown",
   "metadata": {},
   "source": [
    "Read in forecast data"
   ]
  },
  {
   "cell_type": "code",
   "execution_count": null,
   "metadata": {},
   "outputs": [],
   "source": [
    "fil_t2m_fcst_1='/projects/cstan/ufs6/daily/mean/t2m/t2m_*01.nc'\n",
    "fil_t2m_fcst_15='/projects/cstan/ufs6/daily/mean/t2m/t2m_*15.nc'"
   ]
  },
  {
   "cell_type": "code",
   "execution_count": null,
   "metadata": {},
   "outputs": [],
   "source": [
    "ds_t2m_fcst_1=xr.open_mfdataset(fil_t2m_fcst_1,combine='nested',concat_dim='time',parallel=True)\n",
    "ds_t2m_fcst_15=xr.open_mfdataset(fil_t2m_fcst_15,combine='nested',concat_dim='time',parallel=True)"
   ]
  },
  {
   "cell_type": "markdown",
   "metadata": {},
   "source": [
    "Interpolate reforecast data to ERAI grid (regular 0.75 x 0.75)"
   ]
  },
  {
   "cell_type": "code",
   "execution_count": null,
   "metadata": {},
   "outputs": [],
   "source": [
    "rgrd_t2m_fcst_1=regrid_scalar_spharm(ds_t2m_fcst_1['t2m'],ds_t2m_fcst_1.latitude,ds_t2m_fcst_1.longitude,\n",
    "                                                        ds_t2m_erai.latitude,ds_t2m_erai.longitude)\n",
    "rgrd_t2m_fcst_15=regrid_scalar_spharm(ds_t2m_fcst_15['t2m'],ds_t2m_fcst_1.latitude,ds_t2m_fcst_1.longitude,\n",
    "                                                        ds_t2m_erai.latitude,ds_t2m_erai.longitude)\n",
    "\n",
    "del ds_t2m_fcst_1, ds_t2m_fcst_15"
   ]
  },
  {
   "cell_type": "code",
   "execution_count": null,
   "metadata": {},
   "outputs": [],
   "source": [
    "# Calculate forecast anomalies\n",
    "t2m_anom_fcst_1=calcAnom(rgrd_t2m_fcst_1,'t2m_anom')\n",
    "t2m_anom_fcst_15=calcAnom(rgrd_t2m_fcst_15,'t2m_anom')\n",
    "\n",
    "del rgrd_t2m_fcst_1, rgrd_t2m_fcst_15"
   ]
  },
  {
   "cell_type": "markdown",
   "metadata": {},
   "source": [
    "Select all days in November-December-January-February-March"
   ]
  },
  {
   "cell_type": "code",
   "execution_count": null,
   "metadata": {},
   "outputs": [],
   "source": [
    "rmm_obs_ndjfm = ds_rmm['amplitude'].sel(time=is_ndjfm(ds_rmm['time.month']))\n",
    "pha_obs_ndjfm = ds_rmm['phase'].sel(time=is_ndjfm(ds_rmm['time.month']))"
   ]
  },
  {
   "cell_type": "code",
   "execution_count": null,
   "metadata": {},
   "outputs": [],
   "source": [
    "tBegin"
   ]
  },
  {
   "cell_type": "markdown",
   "metadata": {},
   "source": [
    "Generate time limits for each initial condition "
   ]
  },
  {
   "cell_type": "code",
   "execution_count": null,
   "metadata": {},
   "outputs": [],
   "source": [
    "nyrs=int(tEnd[0:4])-int(tBegin[0:4])+1\n",
    "yrStrt=int(tBegin[0:4])\n",
    "mmStrt=1\n",
    "initial_days=[1, 15]\n",
    "\n",
    "dStrt=[]\n",
    "for dd in initial_days:\n",
    "    dStrt.append(date(yrStrt,mmStrt,dd))\n",
    "dLast=[]\n",
    "for i in range(len(initial_days)):\n",
    "    dLast.append(dStrt[i]+timedelta(days=nyrs*366))"
   ]
  },
  {
   "cell_type": "markdown",
   "metadata": {},
   "source": [
    "Select the time period of the forecast 01/01/2011-12/31/2018"
   ]
  },
  {
   "cell_type": "code",
   "execution_count": null,
   "metadata": {},
   "outputs": [],
   "source": [
    "rmm_obs_1=rmm_obs_ndjfm.sel(time=slice(dStrt[0],dLast[0]))\n",
    "rmm_obs_15=rmm_obs_ndjfm.sel(time=slice(dStrt[1],dLast[1]))\n",
    "\n",
    "pha_obs_1=pha_obs_ndjfm.sel(time=slice(dStrt[0],dLast[0]))\n",
    "pha_obs_15=pha_obs_ndjfm.sel(time=slice(dStrt[1],dLast[1]))"
   ]
  },
  {
   "cell_type": "markdown",
   "metadata": {},
   "source": [
    "Select initial conditions in the forecast"
   ]
  },
  {
   "cell_type": "code",
   "execution_count": null,
   "metadata": {},
   "outputs": [],
   "source": [
    "rmm_fcst_1 = rmm_obs_1.sel(time=is_day1(rmm_obs_1['time.day']))\n",
    "rmm_fcst_15 = rmm_obs_15.sel(time=is_day15(rmm_obs_15['time.day']))\n",
    "\n",
    "pha_fcst_1 = pha_obs_1.sel(time=is_day1(pha_obs_1['time.day']))\n",
    "pha_fcst_15 = pha_obs_15.sel(time=is_day15(pha_obs_15['time.day']))"
   ]
  },
  {
   "cell_type": "markdown",
   "metadata": {},
   "source": [
    "Select MJO events for MJO phase 3 and 7"
   ]
  },
  {
   "cell_type": "code",
   "execution_count": null,
   "metadata": {},
   "outputs": [],
   "source": [
    "phase3 = 3\n",
    "mjo_events_1_p3 = select_mjo_event(rmm_fcst_1,pha_fcst_1,phase3)\n",
    "mjo_events_15_p3 = select_mjo_event(rmm_fcst_15,pha_fcst_15,phase3)\n",
    "\n",
    "phase7 = 7\n",
    "mjo_events_1_p7 = select_mjo_event(rmm_fcst_1,pha_fcst_1,phase7)\n",
    "mjo_events_15_p7 = select_mjo_event(rmm_fcst_15,pha_fcst_15,phase7)\n"
   ]
  },
  {
   "cell_type": "code",
   "execution_count": null,
   "metadata": {},
   "outputs": [],
   "source": [
    "lon_0 = 270\n",
    "lat_0 = 20\n",
    "cmap='bwr'\n",
    "clevs=[-5.0, -4.0, -3.0, -2.0, -1.0, -0.5, 0.5, 1.0, 2.0, 3.0, 4.0, 5.0]"
   ]
  },
  {
   "cell_type": "code",
   "execution_count": null,
   "metadata": {},
   "outputs": [],
   "source": [
    "weeks=['week3','week4']\n",
    "\n",
    "# Calculate phase composites of observations for a given week\n",
    "for week in weeks:\n",
    "    var_name='t2m_anom_p3'\n",
    "    obs_comp_anom_1_p3=calcComposites(t2m_obs_anom,mjo_events_1_p3,week,var_name)\n",
    "    obs_comp_anom_15_p3=calcComposites(t2m_obs_anom,mjo_events_15_p3,week,var_name)\n",
    "\n",
    "    var_name='t2m_anom_p7'\n",
    "    obs_comp_anom_1_p7=calcComposites(t2m_obs_anom,mjo_events_1_p7,week,var_name)\n",
    "    obs_comp_anom_15_p7=calcComposites(t2m_obs_anom,mjo_events_15_p7,week,var_name)\n",
    "    \n",
    "    obs_comp_anom_p3=xr.concat([obs_comp_anom_1_p3,obs_comp_anom_15_p3],dim='mjo_events')\n",
    "    obs_comp_anom_p7=xr.concat([obs_comp_anom_1_p7,obs_comp_anom_15_p7],dim='mjo_events')\n",
    "    \n",
    "# Calculate statistical significance of composites (**observations**) over the MJO events\n",
    "    n_samples=1000\n",
    "    sig_level=0.95\n",
    "    obs_low_p3,obs_high_p3=test_sig(obs_comp_anom_p3,sig_level,n_samples)\n",
    "    obs_low_p7,obs_high_p7=test_sig(obs_comp_anom_p7,sig_level,n_samples)\n",
    "    \n",
    "    obs_sig_p3=xr.where((obs_low_p3<0) & (obs_high_p3>0),np.nan,1)\n",
    "    obs_sig_p7=xr.where((obs_low_p7<0) & (obs_high_p7>0),np.nan,1)\n",
    "\n",
    "# Calculate phase composites of forecasts for the given week\n",
    "    var_name='t2m_anom_p3'\n",
    "    fcst_comp_anom_1_p3=calcComposites(t2m_anom_fcst_1,mjo_events_1_p3,week,var_name)\n",
    "    fcst_comp_anom_15_p3=calcComposites(t2m_anom_fcst_15,mjo_events_15_p3,week,var_name)\n",
    "\n",
    "    var_name='t2m_anom_p7'\n",
    "    fcst_comp_anom_1_p7=calcComposites(t2m_anom_fcst_1,mjo_events_1_p7,week,var_name)\n",
    "    fcst_comp_anom_15_p7=calcComposites(t2m_anom_fcst_15,mjo_events_15_p7,week,var_name)\n",
    "    \n",
    "# Combine all MJO events in forecast\n",
    "    fcst_comp_anom_p3=xr.concat([fcst_comp_anom_1_p3,fcst_comp_anom_15_p3],dim='mjo_events')\n",
    "    fcst_comp_anom_p7=xr.concat([fcst_comp_anom_1_p7,fcst_comp_anom_15_p7],dim='mjo_events')\n",
    "    \n",
    "# Calculate statistical significance of composites (forecast) over the MJO events\n",
    "    n_samples=1000\n",
    "    sig_level=0.95\n",
    "    fcst_low_p3,fcst_high_p3=test_sig(fcst_comp_anom_p3,sig_level,n_samples)\n",
    "    fcst_low_p7,fcst_high_p7=test_sig(fcst_comp_anom_p7,sig_level,n_samples)\n",
    "\n",
    "    fcst_sig_p3=xr.where((fcst_low_p3<0) & (fcst_high_p3>0),np.nan,1)\n",
    "    fcst_sig_p7=xr.where((fcst_low_p7<0) & (fcst_high_p7>0),np.nan,1)\n",
    "    \n",
    "#Calculate pattern correlation between ERA-I composites and forecast composites\n",
    "    lat_min=obs_comp_anom_p3.latitude.sel(latitude=20,method='nearest')\n",
    "    lat_max=obs_comp_anom_p3.latitude[0]\n",
    "    lon_min=obs_comp_anom_p3.longitude[0]\n",
    "    lon_max=obs_comp_anom_p3.longitude[-1]\n",
    "    r_p3= correlate(obs_comp_anom_p3['t2m_anom_p3'].mean(dim='mjo_events'),\n",
    "                fcst_comp_anom_p3['t2m_anom_p3'].mean(dim='mjo_events'),lat_min,lat_max,lon_min,lon_max)\n",
    "    r_p7=correlate(obs_comp_anom_p7['t2m_anom_p7'].mean(dim='mjo_events'),\n",
    "                 fcst_comp_anom_p7['t2m_anom_p7'].mean(dim='mjo_events'),lat_min,lat_max,lon_min,lon_max) \n",
    "\n",
    "#Plot composites \n",
    "    plotComposites(obs_comp_anom_p3['t2m_anom_p3'].mean(dim='mjo_events'),\n",
    "               clevs,cmap,lon_0,lat_0,obs_sig_p3,'t2m_obs_'+week+'_p3')\n",
    "    plotComposites(obs_comp_anom_p7['t2m_anom_p7'].mean(dim='mjo_events'),\n",
    "               clevs,cmap,lon_0,lat_0,obs_sig_p7,'t2m_obs_'+week+'_p7')\n",
    "    plotComposites(fcst_comp_anom_p3['t2m_anom_p3'].mean(dim='mjo_events'),\n",
    "               clevs,cmap,lon_0,lat_0,fcst_sig_p3,'t2m_fcst_'+week+'_p3')\n",
    "    plotComposites(fcst_comp_anom_p7['t2m_anom_p7'].mean(dim='mjo_events'),\n",
    "               clevs,cmap,lon_0,lat_0,fcst_sig_p7,'t2m_fcst_'+week+'_p7')"
   ]
  },
  {
   "cell_type": "code",
   "execution_count": null,
   "metadata": {},
   "outputs": [],
   "source": []
  }
 ],
 "metadata": {
  "kernelspec": {
   "display_name": "mjo_telecon",
   "language": "python",
   "name": "mjo_telecon"
  },
  "language_info": {
   "codemirror_mode": {
    "name": "ipython",
    "version": 3
   },
   "file_extension": ".py",
   "mimetype": "text/x-python",
   "name": "python",
   "nbconvert_exporter": "python",
   "pygments_lexer": "ipython3",
   "version": "3.9.16"
  }
 },
 "nbformat": 4,
 "nbformat_minor": 4
}
