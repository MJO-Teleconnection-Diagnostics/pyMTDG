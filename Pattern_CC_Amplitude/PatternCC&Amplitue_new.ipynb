{
 "cells": [
  {
   "cell_type": "code",
   "execution_count": 27,
   "id": "a10d84df-bc34-436e-aaa3-c9fb967b0ae7",
   "metadata": {},
   "outputs": [],
   "source": [
    "import xarray as xr\n",
    "import numpy as np\n",
    "import datetime\n",
    "from datetime import date, timedelta\n",
    "import netCDF4\n",
    "import matplotlib.pyplot as plt # matplotlib version 3.2 and custom version 3.3\n",
    "#import proplot as plot\n",
    "import cartopy\n",
    "import yaml\n",
    "import pandas as pd\n",
    "import glob"
   ]
  },
  {
   "cell_type": "code",
   "execution_count": 4,
   "id": "58abb87f-4dce-402d-ac01-f0c5911debbb",
   "metadata": {},
   "outputs": [],
   "source": [
    "import sys\n",
    "sys.path.insert(0, '../Utils')\n",
    "from pathlib import Path\n",
    "from obs_utils import *\n",
    "from fcst_utils import *\n",
    "from PCC_utils import *"
   ]
  },
  {
   "cell_type": "code",
   "execution_count": 23,
   "id": "15857cf7-922c-4e54-b5e8-7e5b3df8ddb0",
   "metadata": {},
   "outputs": [],
   "source": [
    "config_file=Path('../driver/config.yml').resolve()\n",
    "with open(config_file,'r') as file:\n",
    "    try:\n",
    "        dictionary = yaml.safe_load(file)\n",
    "    except yaml.YAMLError as e:\n",
    "        print(e)"
   ]
  },
  {
   "cell_type": "markdown",
   "id": "0af46347-ed2a-4d33-ae47-cf01aa2e1536",
   "metadata": {},
   "source": [
    "## Read in observed files"
   ]
  },
  {
   "cell_type": "code",
   "execution_count": 6,
   "id": "e927553d-b967-4ce6-ba9f-3f85a3102e86",
   "metadata": {},
   "outputs": [
    {
     "name": "stdout",
     "output_type": "stream",
     "text": [
      "converting geopotential to geopotential height\n"
     ]
    }
   ],
   "source": [
    "#fil_Z500a_erai='/expanse/nfs/cw3e/cwp137/_From_Comet/UFS/Z500ERAI_79-19_1.5.nc'\n",
    "\n",
    "if (dictionary['ERAI:']==True):\n",
    "    fil_z500_obs=dictionary['DIR_IN']+'/mjo_teleconnections_data/erai/z500/z500.ei.oper.an.pl.regn128sc.1979.2019.nc'\n",
    "    ds_obs_name='ERAI'\n",
    "if (dictionary['ERAI:']==False):\n",
    "    fil_z500_obs=dictionary['Path to observational data files']\n",
    "    ds_obs_name='OBS'\n",
    "ds_z500_obs=xr.open_dataset(fil_z500_obs)\n",
    "z500_obs=get_variable_from_dataset(ds_z500_obs)"
   ]
  },
  {
   "cell_type": "code",
   "execution_count": 7,
   "id": "e7ebbe39-9257-46d8-b4f1-4e24b26444cc",
   "metadata": {},
   "outputs": [],
   "source": [
    "# Get the forecast period from the provided Start_Date -- End_Date period\n",
    "yyyymmdd_Begin=dictionary['START_DATE:']\n",
    "tBegin=yyyymmdd_Begin[0:4]+'-'+yyyymmdd_Begin[4:6]+'-'+yyyymmdd_Begin[6:8]\n",
    "yyyymmdd_End=dictionary['END_DATE:']\n",
    "tEnd=yyyymmdd_End[0:4]+'-'+yyyymmdd_End[4:6]+'-'+yyyymmdd_End[6:8]"
   ]
  },
  {
   "cell_type": "code",
   "execution_count": 11,
   "id": "097f37b0-8143-4df4-90a3-1fb3a9cead7f",
   "metadata": {},
   "outputs": [],
   "source": [
    "#calculate observed anomalies\n",
    "if (dictionary['Daily Anomaly:'] == True):\n",
    "    var_name='z'\n",
    "    erai_anomaly=calcAnomObs(z500_obs.sel(time=slice(tBegin,tEnd)),var_name)\n",
    "if (dictionary['Daily Anomaly:'] == False):\n",
    "    erai_anomaly=z500_obs\n",
    "    del z500_obs\n",
    "\n",
    "#var_name='z'\n",
    "#tBegin=\"20110401\"\n",
    "#tEnd='20180430'\n",
    "#erai_anomaly=calcAnomObs(Z500_obs.sel(time=slice(tBegin,tEnd)),var_name)"
   ]
  },
  {
   "cell_type": "code",
   "execution_count": 15,
   "id": "fc293c8b-293a-43d7-9029-2640692aa4cf",
   "metadata": {},
   "outputs": [],
   "source": [
    "# Read observed time, latitude, and longitude\n",
    "erai_time_in = erai_anomaly['time']\n",
    "erai_yyyymmdd = np.array ( erai_time_in.dt.year * 10000 + erai_time_in.dt.month * 100 + erai_time_in.dt.day )\n",
    "era_lat_in=ds_z500_obs['latitude']\n",
    "era_lon_in=ds_z500_obs['longitude']"
   ]
  },
  {
   "cell_type": "markdown",
   "id": "3993c2e4-d869-43ca-8f9c-f71249b1b7b9",
   "metadata": {},
   "source": [
    "## Read forecast data"
   ]
  },
  {
   "cell_type": "code",
   "execution_count": 29,
   "id": "74509b73-1e00-43a3-9f78-c4ca522d5dfe",
   "metadata": {},
   "outputs": [],
   "source": [
    "#fcst_files= \"/expanse/nfs/cw3e/cwp137/UFS/Prototype5/z500_*.nc\"\n",
    "fcst_dir=dictionary['Path to z500 model data files']\n",
    "ds_fcst_name=dictionary['model name']\n",
    "ds_names=[ds_obs_name,ds_fcst_name]"
   ]
  },
  {
   "cell_type": "code",
   "execution_count": 31,
   "id": "3fb50fc3-d65b-4a39-90b9-9f4c2c2e7e3b",
   "metadata": {},
   "outputs": [
    {
     "data": {
      "text/plain": [
       "'/projects/cstan/ufs5/daily/mean/z500/'"
      ]
     },
     "execution_count": 31,
     "metadata": {},
     "output_type": "execute_result"
    }
   ],
   "source": [
    "fcst_dir"
   ]
  },
  {
   "cell_type": "code",
   "execution_count": 33,
   "id": "95f480ad-af89-4219-8de9-e37d32787746",
   "metadata": {},
   "outputs": [],
   "source": [
    "fcst_files=np.sort(glob.glob(str(fcst_dir+'*.nc')))\n",
    "ds_z500_fcst=xr.open_mfdataset(fcst_files,combine='nested',concat_dim='time',parallel=True,engine='h5netcdf')\n",
    "z500_fcst=get_variable_from_dataset(ds_z500_fcst)"
   ]
  },
  {
   "cell_type": "code",
   "execution_count": null,
   "id": "e8ddb148-9b64-43af-a499-09e3db3bd8e9",
   "metadata": {},
   "outputs": [],
   "source": [
    "#ds_z500_fcst=xr.open_mfdataset(fcst_files,combine='nested',concat_dim='time',parallel=True)\n",
    "# Interpolate reforecast data to ERAI grid (regular 0.75 x 0.75)\n",
    "rgrd_z500_fcst=regrid_scalar_spharm(ds_z500_fcst['z500'],ds_z500_fcst.latitude,ds_z500_fcst.longitude,\n",
    "                                                        ds_Z500a_erai.latitude,ds_Z500a_erai.longitude)\n",
    "# Calculate forecast anomalies\n",
    "z500_fcst_anom=calcAnom(rgrd_z500_fcst,'z500_anom')\n",
    "# Reshape the forecast data\n",
    "z500_fcst_anom_reshape=reshape_forecast(z500_fcst_anom,nfc=35)\n",
    "# Rename the coordinates\n",
    "z500_fcst_anom_reshape=z500_fcst_anom_reshape.rename({'time': 'initial_date','forecast_day': 'time'})\n",
    "# Get model time\n",
    "model_yyyymmdd=z500_fcst_anom_reshape['initial_date']"
   ]
  },
  {
   "cell_type": "markdown",
   "id": "289008c4-7355-45ba-9b6f-758f0ed054ba",
   "metadata": {},
   "source": [
    "## Read RMM data"
   ]
  },
  {
   "cell_type": "code",
   "execution_count": null,
   "id": "6a8c47f0-8f63-4798-b9e1-58eb8e30233d",
   "metadata": {},
   "outputs": [],
   "source": [
    "fil_rmm_erai='/expanse/nfs/cw3e/cwp137/_From_Comet/UFS/rmm_ERA-Interim.nc'\n",
    "ds_rmm=xr.open_dataset(fil_rmm_erai,decode_times=False)\n",
    "times=ds_rmm['amplitude'].time\n",
    "init_time=date(1960,1,1)+timedelta(int(times[0]))\n",
    "time=[]\n",
    "for i in range(len(times)):\n",
    "        time.append(init_time+timedelta(i))\n",
    "phase=np.array(ds_rmm['phase'])\n",
    "amplitude=np.array(ds_rmm['amplitude'])\n",
    "phase_int = np.array(list(map(np.int_, phase)))"
   ]
  },
  {
   "cell_type": "code",
   "execution_count": null,
   "id": "8ef1caad-17cf-4dca-90d1-fc600aaa52ec",
   "metadata": {},
   "outputs": [],
   "source": [
    "ds_rmm['time'] = pd.to_datetime(time,format=\"%Y/%m/%d\")\n",
    "rmm_time_in = ds_rmm['time']\n",
    "rmm_yyyymmdd = np.array ( rmm_time_in.dt.year * 10000 + rmm_time_in.dt.month * 100 + rmm_time_in.dt.day )\n",
    "model_time_in = z500_fcst_anom_reshape['initial_date']\n",
    "model_yyyymmdd = np.array ( model_time_in.dt.year * 10000 + model_time_in.dt.month * 100 + model_time_in.dt.day )"
   ]
  },
  {
   "cell_type": "code",
   "execution_count": null,
   "id": "6c04614a-4c40-4758-90df-12d1989a1544",
   "metadata": {},
   "outputs": [],
   "source": [
    "composite_start_month = 11\n",
    "composite_end_month   = 3\n",
    "compoiste_amplitude_threshold = 1.\n",
    "phase_names = [ \"8-1\" , \"2-3\" , \"4-5\" , \"6-7\" ]\n",
    "rmm_list = get_rmm_composite_list ( phase_names , model_yyyymmdd , rmm_yyyymmdd , phase_int , amplitude , compoiste_amplitude_threshold , composite_start_month , composite_end_month )"
   ]
  },
  {
   "cell_type": "code",
   "execution_count": null,
   "id": "285ef412-1c31-4b69-a1d5-7e194a16dc87",
   "metadata": {},
   "outputs": [],
   "source": [
    "timelag=z500_fcst_anom_reshape['time']\n",
    "rmm_list_ERA_67 = [ ]\n",
    "rmm_tem_list_67=rmm_list[3] \n",
    "rmm_list_ERA_67 = np.empty (( len (timelag),len (rmm_tem_list_67)) ,dtype=int)\n",
    "time_n=0\n",
    "erai_time_in = erai_anomaly['time']\n",
    "erai_yyyymmdd = np.array ( erai_time_in.dt.year * 10000 + erai_time_in.dt.month * 100 + erai_time_in.dt.day )\n",
    "for time_step in range ( len ( erai_yyyymmdd ) ) :\n",
    "    for irmm in range ( len ( rmm_tem_list_67 ) ) : \n",
    "        if erai_yyyymmdd [ time_step ] == model_yyyymmdd[rmm_tem_list_67 [irmm]] : \n",
    "            time_n=time_n+1\n",
    "            for itime in range (len (timelag)):\n",
    "                rmm_list_ERA_67 [itime,time_n-1]=time_step+itime"
   ]
  },
  {
   "cell_type": "code",
   "execution_count": null,
   "id": "ddedee3f-387a-48c2-aab9-66a84d780242",
   "metadata": {},
   "outputs": [],
   "source": [
    "rmm_list_ERA_23 = [ ]\n",
    "rmm_tem_list_23=rmm_list[1] \n",
    "rmm_list_ERA_23 = np.empty (( len (timelag),len (rmm_tem_list_23)) ,dtype=int)\n",
    "time_n=0\n",
    "for time_step in range ( len ( erai_yyyymmdd ) ) :\n",
    "    for irmm in range ( len ( rmm_tem_list_23 ) ) : \n",
    "        if erai_yyyymmdd [ time_step ] == model_yyyymmdd[rmm_tem_list_23 [irmm]] : \n",
    "            time_n=time_n+1\n",
    "            for itime in range (len (timelag)):\n",
    "                rmm_list_ERA_23 [itime,time_n-1]=time_step+itime"
   ]
  },
  {
   "cell_type": "markdown",
   "id": "18262869-42c4-4b54-a397-a057b5b859e9",
   "metadata": {},
   "source": [
    "## Calculate Pattern CC and amplitude"
   ]
  },
  {
   "cell_type": "code",
   "execution_count": null,
   "id": "4c0a590c-6ceb-4f11-9cbd-f0c35545c9a9",
   "metadata": {},
   "outputs": [],
   "source": [
    "lat_min=20\n",
    "lat_max=80\n",
    "lon_min=120\n",
    "lon_max=300\n",
    "rmm_list_model_67=rmm_list [3]\n",
    "rmm_list_model_23=rmm_list [1]\n",
    "pcc_ufs_p23 = patterncc(timelag,rmm_list_ERA_23,rmm_list_model_23,z500_fcst_anom_reshape,erai_anomaly,lat_min,lat_max,lon_min,lon_max)\n",
    "pcc_ufs_p67 = patterncc(timelag,rmm_list_ERA_67,rmm_list_model_67,z500_fcst_anom_reshape,erai_anomaly,lat_min,lat_max,lon_min,lon_max)       \n",
    "pcc_ufs_p23=np.mean ( pcc_ufs_p23,axis= 1   )\n",
    "pcc_ufs_p67=np.mean ( pcc_ufs_p67,axis= 1   )\n"
   ]
  },
  {
   "cell_type": "code",
   "execution_count": null,
   "id": "0af7e7be-ed4c-4353-bede-492649b5488a",
   "metadata": {},
   "outputs": [],
   "source": [
    "amp_ufs_p23 = amplitude_metric(timelag,rmm_list_ERA_23,rmm_list_model_23,z500_fcst_anom_reshape,erai_anomaly,lat_min,lat_max,lon_min,lon_max)\n",
    "amp_ufs_p67 = amplitude_metric(timelag,rmm_list_ERA_67,rmm_list_model_67,z500_fcst_anom_reshape,erai_anomaly,lat_min,lat_max,lon_min,lon_max)       \n",
    "amp_ufs_p23=np.mean ( amp_ufs_p23,axis= 1   )\n",
    "amp_ufs_p67=np.mean ( amp_ufs_p67,axis= 1   )\n"
   ]
  },
  {
   "cell_type": "code",
   "execution_count": null,
   "id": "c0b29fe1-d948-4d4f-b0c2-ddcf39904b1f",
   "metadata": {},
   "outputs": [],
   "source": [
    "import matplotlib.lines as mlines\n",
    "fig = plt.figure(figsize=(12,6))\n",
    "plt.rcParams['font.size'] = '14'\n",
    "def addlegend(ax):\n",
    "    P23 = mlines.Line2D([],[], color='b', label='Phases 2&3')\n",
    "    P67 = mlines.Line2D([],[], color='r', label='Phases 6&7')\n",
    "    ax.legend(handles=[P23, P67], ncol=1, fontsize=12)\n",
    "\n",
    "ncol = 2\n",
    "nrow = 1\n",
    "for i in range(ncol):\n",
    "    ax = fig.add_subplot(nrow,ncol,i+1)\n",
    "    if i==0:\n",
    "        ax.set_title('a. Pattern Correlation',loc='left')\n",
    "        ax.plot(pcc_ufs_p23,color='b',linewidth=2,label='Phases 2&3')\n",
    "        ax.plot(pcc_ufs_p67,color='r',linewidth=2,label='Phases 6&7')\n",
    "    else:\n",
    "        ax.set_title('b. Relative Amplitude',loc='left')\n",
    "        ax.plot(amp_ufs_p23,color='b',linewidth=2,label='Phases 2&3')\n",
    "        ax.plot(amp_ufs_p67,color='r',linewidth=2,label='Phases 6&7')\n",
    "    if i==0: addlegend(ax)\n",
    "    ax.grid(True)\n",
    "    "
   ]
  },
  {
   "cell_type": "code",
   "execution_count": null,
   "id": "8dbe0bc2-157b-48bb-ad7d-daa1a0aa9053",
   "metadata": {},
   "outputs": [],
   "source": []
  }
 ],
 "metadata": {
  "kernelspec": {
   "display_name": "mjo_telecon",
   "language": "python",
   "name": "mjo_telecon"
  },
  "language_info": {
   "codemirror_mode": {
    "name": "ipython",
    "version": 3
   },
   "file_extension": ".py",
   "mimetype": "text/x-python",
   "name": "python",
   "nbconvert_exporter": "python",
   "pygments_lexer": "ipython3",
   "version": "3.9.16"
  }
 },
 "nbformat": 4,
 "nbformat_minor": 5
}
